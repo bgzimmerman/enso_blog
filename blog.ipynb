{
 "cells": [
  {
   "cell_type": "code",
   "execution_count": null,
   "metadata": {},
   "outputs": [],
   "source": [
    "import pandas as pd\n",
    "\n",
    "from simulator import BettingSimulation, simulate_multiple_seasons\n",
    "from plotting import plot_results_comparison, plot_cumulative_profit_comparison\n"
   ]
  },
  {
   "cell_type": "code",
   "execution_count": null,
   "metadata": {},
   "outputs": [],
   "source": [
    "# Simulate seasons with estimation error\n",
    "final_profits_true, final_profits_estimated, all_results = simulate_multiple_seasons(\n",
    "    num_seasons=1000,\n",
    "    num_games=82,\n",
    "    estimation_error=0.5,  # Adjust this value to simulate estimation error\n",
    "    limited_estimates=False,  # Set to True if you want to use limited estimates\n",
    ")\n",
    "\n",
    "# Generate comparison plots\n",
    "plot_results_comparison(final_profits_true, final_profits_estimated, savefig=True)"
   ]
  },
  {
   "cell_type": "code",
   "execution_count": null,
   "metadata": {},
   "outputs": [],
   "source": [
    "# Combine final profits true and estimated into a dataframe\n",
    "results_df = pd.DataFrame({\n",
    "    'True Probabilities': final_profits_true,\n",
    "    'Estimated Probabilities': final_profits_estimated\n",
    "})\n",
    "\n",
    "# Save the dataframe to a CSV file\n",
    "csv_filename = 'final_profits_comparison.csv'\n",
    "results_df.to_csv(f\"./data/{csv_filename}\", index=False)\n",
    "\n",
    "print(f\"Results saved to {csv_filename}\")\n"
   ]
  },
  {
   "cell_type": "code",
   "execution_count": null,
   "metadata": {},
   "outputs": [],
   "source": [
    "# Do some massaging here to get the all_results dataframes into readable experiment 1 and 2 dataframes\n",
    "\n",
    "season = 50\n",
    "\n",
    "columns = all_results[season].columns\n",
    "experiment1_cols = [\"Opponent\", \"True Probability (%)\", \"Bet Amount ($) - True Probabilities\", \"Game Outcome\", \"Profit ($) - True Probabilities\",  \"Cumulative Profit ($) - True Probabilities\"]\n",
    "experiment2_cols = [\"Opponent\", \"True Probability (%)\", \"Estimated Probability (%)\", \"Bet Amount ($) - Estimated Probabilities\", \"Game Outcome\", \"Profit ($) - Estimated Probabilities\",  \"Cumulative Profit ($) - Estimated Probabilities\"]\n",
    "\n",
    "experiment1_names = [\"Opponent\", \"True Probability (%)\", \"Bet Amount ($)\", \"Game Outcome\", \"Profit ($)\",  \"Cumulative Profit ($)\"]\n",
    "experiment2_names = [\"Opponent\", \"True Probability (%)\", \"Estimated Probability (%)\", \"Bet Amount ($)\", \"Game Outcome\", \"Profit ($)\",  \"Cumulative Profit ($)\"]\n",
    "\n",
    "\n",
    "exp1 = all_results[season][experiment1_cols].rename(columns=dict(zip(experiment1_cols, experiment1_names)))\n",
    "exp1.insert(2, 'Estimated Probability (%)', exp1['True Probability (%)'])\n",
    "exp1.to_csv('./data/experiment1.csv', index=True)\n",
    "\n",
    "exp2 = all_results[season][experiment2_cols].rename(columns=dict(zip(experiment2_cols, experiment2_names)))\n",
    "exp2.to_csv('./data/experiment2.csv', index=True)"
   ]
  },
  {
   "cell_type": "code",
   "execution_count": null,
   "metadata": {},
   "outputs": [],
   "source": [
    "plot_cumulative_profit_comparison(exp1, exp2, season = season, savefig=True)"
   ]
  }
 ],
 "metadata": {
  "kernelspec": {
   "display_name": "salient",
   "language": "python",
   "name": "python3"
  },
  "language_info": {
   "codemirror_mode": {
    "name": "ipython",
    "version": 3
   },
   "file_extension": ".py",
   "mimetype": "text/x-python",
   "name": "python",
   "nbconvert_exporter": "python",
   "pygments_lexer": "ipython3",
   "version": "3.11.9"
  }
 },
 "nbformat": 4,
 "nbformat_minor": 2
}
