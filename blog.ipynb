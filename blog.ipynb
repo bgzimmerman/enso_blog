{
 "cells": [
  {
   "cell_type": "code",
   "execution_count": null,
   "metadata": {},
   "outputs": [],
   "source": [
    "import pandas as pd\n",
    "\n",
    "from simulator import BettingSimulation, simulate_multiple_seasons\n",
    "from plotting import (\n",
    "    plot_probs_results_comparison, \n",
    "    plot_dss_results_comparison,\n",
    "    plot_all_results_comparison,\n",
    "    plot_cumulative_profit_comparison\n",
    ")\n"
   ]
  },
  {
   "cell_type": "code",
   "execution_count": null,
   "metadata": {},
   "outputs": [],
   "source": [
    "# Simulate seasons with estimation error\n",
    "final_profits_true, final_profits_estimated, final_profits_random, all_results = simulate_multiple_seasons(\n",
    "    num_seasons=1000,\n",
    "    num_games=82,\n",
    "    estimation_error=0.5,  # Adjust this value to simulate estimation error\n",
    "    limited_estimates=False,  # Set to True if you want to use limited estimates\n",
    ")\n",
    "\n"
   ]
  },
  {
   "cell_type": "code",
   "execution_count": null,
   "metadata": {},
   "outputs": [],
   "source": [
    "data = pd.read_csv('./data/final_profits_comparison.csv')\n",
    "final_profits_true = data['True Probabilities']\n",
    "final_profits_estimated = data['Estimated Probabilities']\n",
    "final_profits_random = data['Random Betting']"
   ]
  },
  {
   "cell_type": "code",
   "execution_count": null,
   "metadata": {},
   "outputs": [],
   "source": [
    "# Generate comparison plots\n",
    "\n",
    "\n",
    "plot_probs_results_comparison(final_profits_true, final_profits_estimated, savefig=True)\n",
    "plot_dss_results_comparison(final_profits_true, final_profits_random, savefig=True)\n",
    "plot_all_results_comparison(final_profits_true, final_profits_estimated, final_profits_random, savefig=True)"
   ]
  },
  {
   "cell_type": "code",
   "execution_count": null,
   "metadata": {},
   "outputs": [],
   "source": [
    "# Combine final profits true and estimated into a dataframe\n",
    "results_df = pd.DataFrame({\n",
    "    'True Probabilities': final_profits_true,\n",
    "    'Estimated Probabilities': final_profits_estimated,\n",
    "    'Random Betting': final_profits_random\n",
    "})\n",
    "\n",
    "# Save the dataframe to a CSV file\n",
    "csv_filename = 'final_profits_comparison.csv'\n",
    "results_df.to_csv(f\"./data/{csv_filename}\", index=False)\n",
    "\n",
    "print(f\"Results saved to {csv_filename}\")\n"
   ]
  },
  {
   "cell_type": "code",
   "execution_count": null,
   "metadata": {},
   "outputs": [],
   "source": [
    "# This code searches for instances where, at game 20, the cumulative profit from random betting is greater \n",
    "# than the cumulative profit from betting with true probabilities. Use it in the plotting function below.\n",
    "game = 30\n",
    "example_seasons = []\n",
    "for season in range(1000):\n",
    "    if all_results[season].loc[game, 'Cumulative Profit ($) - Random'] > all_results[season].loc[game, 'Cumulative Profit ($) - True Probabilities']:\n",
    "        print(season)\n",
    "        example_seasons.append(season)"
   ]
  },
  {
   "cell_type": "code",
   "execution_count": null,
   "metadata": {},
   "outputs": [],
   "source": [
    "for season in example_seasons:\n",
    "    columns = all_results[season].columns\n",
    "    experiment1_cols = [\"Opponent\", \"True Probability (%)\", \"Bet Amount ($) - Random\", \"Game Outcome\", \"Profit ($) - True Probabilities\",  \"Cumulative Profit ($) - Random\"]\n",
    "    experiment2_cols = [\"Opponent\", \"True Probability (%)\", \"Bet Amount ($) - True Probabilities\", \"Game Outcome\", \"Profit ($) - True Probabilities\",  \"Cumulative Profit ($) - True Probabilities\"]\n",
    "    experiment3_cols = [\"Opponent\", \"True Probability (%)\", \"Estimated Probability (%)\", \"Bet Amount ($) - Estimated Probabilities\", \"Game Outcome\", \"Profit ($) - Estimated Probabilities\",  \"Cumulative Profit ($) - Estimated Probabilities\"]\n",
    "\n",
    "    experiment1_names = [\"Opponent\", \"True Probability (%)\", \"Bet Amount ($)\", \"Game Outcome\", \"Profit ($)\",  \"Cumulative Profit ($)\"]\n",
    "    experiment2_names = [\"Opponent\", \"True Probability (%)\", \"Bet Amount ($)\", \"Game Outcome\", \"Profit ($)\",  \"Cumulative Profit ($)\"]\n",
    "    experiment3_names = [\"Opponent\", \"True Probability (%)\", \"Estimated Probability (%)\", \"Bet Amount ($)\", \"Game Outcome\", \"Profit ($)\",  \"Cumulative Profit ($)\"]\n",
    "\n",
    "\n",
    "    exp1 = all_results[season][experiment1_cols].rename(columns=dict(zip(experiment1_cols, experiment1_names)))\n",
    "    exp1.to_csv('./data/experiment1.csv', index=True)\n",
    "\n",
    "    exp2 = all_results[season][experiment2_cols].rename(columns=dict(zip(experiment2_cols, experiment2_names)))\n",
    "    exp2.to_csv('./data/experiment2.csv', index=True)\n",
    "\n",
    "    exp3 = all_results[season][experiment3_cols].rename(columns=dict(zip(experiment3_cols, experiment3_names)))\n",
    "    exp3.to_csv('./data/experiment3.csv', index=True)\n",
    "\n",
    "    plot_cumulative_profit_comparison(exp1, exp2, exp3, season = season, savefig=True)"
   ]
  },
  {
   "cell_type": "code",
   "execution_count": null,
   "metadata": {},
   "outputs": [],
   "source": []
  }
 ],
 "metadata": {
  "kernelspec": {
   "display_name": "salient",
   "language": "python",
   "name": "python3"
  },
  "language_info": {
   "codemirror_mode": {
    "name": "ipython",
    "version": 3
   },
   "file_extension": ".py",
   "mimetype": "text/x-python",
   "name": "python",
   "nbconvert_exporter": "python",
   "pygments_lexer": "ipython3",
   "version": "3.11.10"
  }
 },
 "nbformat": 4,
 "nbformat_minor": 2
}
